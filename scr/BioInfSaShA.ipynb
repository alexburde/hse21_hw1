{
 "cells": [
  {
   "cell_type": "code",
   "execution_count": 1,
   "metadata": {},
   "outputs": [
    {
     "name": "stdout",
     "output_type": "stream",
     "text": [
      "Общее количество контигов: 616\n",
      "Общая длина контигов: 3926101\n",
      "Длина самого длинного контига: 179304\n",
      "N50: 54901\n"
     ]
    }
   ],
   "source": [
    "f = open(\"Poil_contigSASHA.fa\", \"r\")\n",
    "count = 0\n",
    "lenth = 0\n",
    "all_ctg = []\n",
    "for i in f.readlines():\n",
    "    if i[0] == '>':\n",
    "        count += 1\n",
    "        index_len = i.find('len')+3\n",
    "        lenth += int(i[index_len : i.find('_', index_len)])\n",
    "        all_ctg.append(int(i[index_len : i.find('_', index_len)]))\n",
    "all_ctg.sort(reverse = True)\n",
    "print(\"Общее количество контигов:\", count)\n",
    "print(\"Общая длина контигов:\", lenth)\n",
    "print(\"Длина самого длинного контига:\", all_ctg[0])\n",
    "s = 0\n",
    "for i in all_ctg:\n",
    "    s += i\n",
    "    if (s >= (lenth/2)):\n",
    "        print(\"N50:\", i)\n",
    "        break\n",
    "\n"
   ]
  },
  {
   "cell_type": "code",
   "execution_count": 2,
   "metadata": {},
   "outputs": [
    {
     "name": "stdout",
     "output_type": "stream",
     "text": [
      "Общее количество скаффолдов: 69\n",
      "Общая длина скаффолдов: 3876297\n",
      "Длина самого длинного скаффолдов: 3838202\n",
      "N50: 3838202\n"
     ]
    }
   ],
   "source": [
    "f = open(\"Poil_scaffoldSASHA.fa\", \"r\")\n",
    "count = 0\n",
    "lenth = 0\n",
    "all_ctg = []\n",
    "for i in f.readlines():\n",
    "    if i[0] == '>':\n",
    "        count += 1\n",
    "        index_len = i.find('len')+3\n",
    "        lenth += int(i[index_len : i.find('_', index_len)])\n",
    "        all_ctg.append(int(i[index_len : i.find('_', index_len)]))\n",
    "all_ctg.sort(reverse = True)\n",
    "print(\"Общее количество скаффолдов:\", count)\n",
    "print(\"Общая длина скаффолдов:\", lenth)\n",
    "print(\"Длина самого длинного скаффолдов:\", all_ctg[0])\n",
    "s = 0\n",
    "for i in all_ctg:\n",
    "    s += i\n",
    "    if (s >= (lenth/2)):\n",
    "        print(\"N50:\", i)\n",
    "        break"
   ]
  },
  {
   "cell_type": "code",
   "execution_count": 3,
   "metadata": {},
   "outputs": [
    {
     "name": "stdout",
     "output_type": "stream",
     "text": [
      "Количество: 29\n",
      "Общая длина: 1717\n"
     ]
    }
   ],
   "source": [
    "import re\n",
    "\n",
    "f = open(\"Poil_gapClosedSASHA.fa\", \"r\")\n",
    "count = 0\n",
    "longstr = f.read()\n",
    "res = re.findall(r'(N+)', longstr)\n",
    "print('Количество:', len(res))\n",
    "for i in res:\n",
    "    count += len(i)\n",
    "print('Общая длина:', count)"
   ]
  },
  {
   "cell_type": "code",
   "execution_count": null,
   "metadata": {},
   "outputs": [],
   "source": []
  }
 ],
 "metadata": {
  "kernelspec": {
   "display_name": "Python 3",
   "language": "python",
   "name": "python3"
  },
  "language_info": {
   "codemirror_mode": {
    "name": "ipython",
    "version": 3
   },
   "file_extension": ".py",
   "mimetype": "text/x-python",
   "name": "python",
   "nbconvert_exporter": "python",
   "pygments_lexer": "ipython3",
   "version": "3.7.4"
  }
 },
 "nbformat": 4,
 "nbformat_minor": 4
}
