{
  "nbformat": 4,
  "nbformat_minor": 0,
  "metadata": {
    "colab": {
      "name": "Untitled3.ipynb",
      "provenance": []
    },
    "kernelspec": {
      "name": "python3",
      "display_name": "Python 3"
    },
    "language_info": {
      "name": "python"
    }
  },
  "cells": [
    {
      "cell_type": "code",
      "metadata": {
        "colab": {
          "base_uri": "https://localhost:8080/"
        },
        "id": "jugiRfoQbs7_",
        "outputId": "422b4230-9641-4d9a-cd08-6f45171aada8"
      },
      "source": [
        "f = open(\"Poil_contig.fa\", \"r\")\n",
        "count = 0\n",
        "lenth = 0\n",
        "all_ctg = []\n",
        "for i in f.readlines():\n",
        "    if i[0] == '>':\n",
        "        count += 1\n",
        "        index_len = i.find('len')+3\n",
        "        lenth += int(i[index_len : i.find('_', index_len)])\n",
        "        all_ctg.append(int(i[index_len : i.find('_', index_len)]))\n",
        "all_ctg.sort(reverse = True)\n",
        "print(\"Общее количество контигов:\", count)\n",
        "print(\"Общая длина контигов:\", lenth)\n",
        "print(\"Длина самого длинного контига:\", all_ctg[0])\n",
        "s = 0\n",
        "for i in all_ctg:\n",
        "    s += i\n",
        "    if (s >= (lenth/2)):\n",
        "        print(\"N50:\", i)\n",
        "        break"
      ],
      "execution_count": 2,
      "outputs": [
        {
          "output_type": "stream",
          "name": "stdout",
          "text": [
            "Общее количество контигов: 616\n",
            "Общая длина контигов: 3926101\n",
            "Длина самого длинного контига: 179304\n",
            "N50: 54901\n"
          ]
        }
      ]
    },
    {
      "cell_type": "code",
      "metadata": {
        "colab": {
          "base_uri": "https://localhost:8080/"
        },
        "id": "h1jjaDG6cOew",
        "outputId": "edea0265-8733-4cce-d93e-c2b9afde7377"
      },
      "source": [
        "f = open(\"Poil_scaffold.fa\", \"r\")\n",
        "count = 0\n",
        "lenth = 0\n",
        "all_ctg = []\n",
        "for i in f.readlines():\n",
        "    if i[0] == '>':\n",
        "        count += 1\n",
        "        index_len = i.find('len')+3\n",
        "        lenth += int(i[index_len : i.find('_', index_len)])\n",
        "        all_ctg.append(int(i[index_len : i.find('_', index_len)]))\n",
        "all_ctg.sort(reverse = True)\n",
        "print(\"Общее количество скаффолдов:\", count)\n",
        "print(\"Общая длина скаффолдов:\", lenth)\n",
        "print(\"Длина самого длинного скаффолдов:\", all_ctg[0])\n",
        "s = 0\n",
        "for i in all_ctg:\n",
        "    s += i\n",
        "    if (s >= (lenth/2)):\n",
        "        print(\"N50:\", i)\n",
        "        break"
      ],
      "execution_count": 3,
      "outputs": [
        {
          "output_type": "stream",
          "name": "stdout",
          "text": [
            "Общее количество скаффолдов: 69\n",
            "Общая длина скаффолдов: 3876297\n",
            "Длина самого длинного скаффолдов: 3838202\n",
            "N50: 3838202\n"
          ]
        }
      ]
    },
    {
      "cell_type": "code",
      "metadata": {
        "colab": {
          "base_uri": "https://localhost:8080/"
        },
        "id": "3BSEAkr4cgpq",
        "outputId": "73880a3f-bd98-409b-a077-4632208e6447"
      },
      "source": [
        "import re\n",
        "\n",
        "f = open(\"Poil_gapClosed.fa\", \"r\")\n",
        "count = 0\n",
        "longstr = f.read()\n",
        "res = re.findall(r'(N+)', longstr)\n",
        "print('Количество:', len(res))\n",
        "for i in res:\n",
        "    count += len(i)\n",
        "print('Общая длина:', count)"
      ],
      "execution_count": 4,
      "outputs": [
        {
          "output_type": "stream",
          "name": "stdout",
          "text": [
            "Количество: 29\n",
            "Общая длина: 1717\n"
          ]
        }
      ]
    },
    {
      "cell_type": "code",
      "metadata": {
        "id": "2fjmPiDTcr_K"
      },
      "source": [
        ""
      ],
      "execution_count": null,
      "outputs": []
    }
  ]
}